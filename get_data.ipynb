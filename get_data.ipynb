{
 "cells": [
  {
   "cell_type": "code",
   "execution_count": null,
   "metadata": {},
   "outputs": [],
   "source": [
    "import yfinance as yf\n",
    "import pandas as pd\n",
    "\n",
    "# Define the ticker symbol for S&P 500 (snp)\n",
    "ticker = \"^GSPC\"\n",
    "\n",
    "# Download the daily tick data from Yahoo Finance\n",
    "data = yf.download(ticker, start=\"2019-01-01\", end=\"2024-01-01\")\n",
    "\n",
    "# Save the data to a CSV file\n",
    "data.to_csv(\"snp_daily_tick_data.csv\")"
   ]
  }
 ],
 "metadata": {
  "language_info": {
   "name": "python"
  }
 },
 "nbformat": 4,
 "nbformat_minor": 2
}
